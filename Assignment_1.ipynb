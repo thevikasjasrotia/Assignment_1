{
  "nbformat": 4,
  "nbformat_minor": 0,
  "metadata": {
    "colab": {
      "provenance": []
    },
    "kernelspec": {
      "name": "python3",
      "display_name": "Python 3"
    },
    "language_info": {
      "name": "python"
    }
  },
  "cells": [
    {
      "cell_type": "code",
      "source": [
        "# Explain the key features of Python that make it a popular choice for programming\n",
        "\n",
        " 1) It is easy to read and write as compare to many other languages.\n",
        " 2)  Python has a huge collection of pre-built tools and functions called libraries.\n",
        " 3) Its has a Wide Range of application uses.\n",
        " 4) Python code is executed one line at a time, making it easier to find and fix errors.\n",
        " 5) Its has simple Syntax."
      ],
      "metadata": {
        "id": "0g7he9jmJ2Su"
      },
      "execution_count": null,
      "outputs": []
    },
    {
      "cell_type": "code",
      "source": [
        "# Describe the role of predefined keywords in Python and provide examples of how they are used in a program\n",
        "\n",
        "Predefined keywords are reserved words in Python with specific meanings.\n",
        "They control program flow, define functions and classes, handle exceptions, and perform input/output operations.\n",
        "Examples include if, else, for, while, def, class, try, except, print, and input."
      ],
      "metadata": {
        "id": "Z2pbwFchJ9hm"
      },
      "execution_count": null,
      "outputs": []
    },
    {
      "cell_type": "code",
      "source": [
        "# Compare and contrast mutable and immutable objects in Python with examples\n",
        "\n",
        "Mutable objects can be changed after their creation. This means you can modify their content without changing their identity.\n",
        "Examples: Lists, dictionaries, sets.\n",
        "\n",
        "Immutable objects cannot be changed after their creation. Any modification results in the creation of a new object.\n",
        "Examples: Strings, tuples.\n"
      ],
      "metadata": {
        "id": "_Bd_-95dKE_h"
      },
      "execution_count": null,
      "outputs": []
    },
    {
      "cell_type": "code",
      "source": [
        "# Discuss the different types of operators in Python and provide examples of how they are used.\n",
        "\n",
        "1) Arthimatic operator- Arithmetic operators are used to perform mathematical operations like addition, subtraction, multiplication, etc.\n",
        "example  x = 10\n",
        "y = 5\n",
        "print(x + y)  # Addition\n",
        "print(x - y)  # Subtraction\n",
        "print(x * y)  # Multiplication\n",
        "\n",
        "2) Comparison operator- Comparison operators compare two values/variables and return a boolean result: True or False.\n",
        "example a = 5\n",
        "b = 2\n",
        "\n",
        "print (a > b)    # True\n",
        "\n",
        "3) Assignment operator- Assignment operators are used to assign values to variables.\n",
        "example x = 5  # assign 5 to x\n",
        "\n",
        "4) Logical operator- Logical operators are used to check whether an expression is True or False.\n",
        "example x = 5\n",
        "y = 10\n",
        "print(x < y and x != y)  # True\n",
        "\n",
        "5) Bitwise operator- Bitwise operators act on operands as if they were strings of binary digits.\n",
        "example x = 5  # 101 in binary\n",
        "y = 3  # 011 in binary\n",
        "print(x & y)  # 101 & 011 = 001 = 1 in decimal\n",
        "\n",
        "6) Membership operator- In Python, in and not in are the membership operators. They are used to test whether a value or variable is found in a sequence.\n",
        "example my_list = [1, 2, 3, 4, 5]\n",
        "print(3 in my_list)  # True\n",
        "print(6 in my_list)  # False\n",
        "\n",
        "7) Identity operators- In Python, is and is not are used to check if two values are located at the same memory location.\n",
        "example x = [1, 2, 3]\n",
        "y = x\n",
        "print(x is y)  # True\n",
        "print(x is not y)  # False"
      ],
      "metadata": {
        "id": "FZ32BKAd104k"
      },
      "execution_count": null,
      "outputs": []
    },
    {
      "cell_type": "code",
      "source": [
        "#Explain the concept of type casting in Python with examples.\n",
        "\n",
        "Type Casting is the method to convert the Python variable datatype into a certain data type in order to perform the required operation by users.\n",
        "Type of Casting:\n",
        "\n",
        "1) Implicit Type Casting\n",
        "2) Explicit Type Casting\n",
        "\n",
        "1) Implicit Type Casting- In Implicit type conversion, Python automatically converts one data type to another.\n",
        "2) Explicit Type Casting- In Explicit Type Conversion, users convert the data type of an object to required data type.\n"
      ],
      "metadata": {
        "id": "0CBn25st106q"
      },
      "execution_count": null,
      "outputs": []
    },
    {
      "cell_type": "code",
      "source": [
        "# How do conditional statements work in Python? Illustrate with examples.\n",
        "\n",
        "Conditional statements allow to control the flow of your program based on certain conditions. Python primarily uses if, else, and elif statements to achieve this.\n",
        "if condition- Executes a block of code if a condition is true.\n",
        "Example\n",
        "x = 10\n",
        "if x > 5:\n",
        "    print(\"x is greater than 5\")\n",
        "\n",
        "if-else Statement- Executes one block of code if a condition is true, and another block if it's false.\n",
        "Python\n",
        "x = 5\n",
        "if x > 5:\n",
        "    print(\"x is greater than 5\")\n",
        "else:\n",
        "    print(\"x is less than or equal to 5\")\n",
        "\n",
        "if-elif-else Statement- Allows you to check multiple conditions sequentially.\n",
        "Python\n",
        "x = 10\n",
        "if x > 15:\n",
        "    print(\"x is greater than 15\")\n",
        "elif x > 5:\n",
        "    print(\"x is greater than 5 but less than or equal to 15\")\n",
        "else:\n",
        "    print(\"x is less than or equal to 5\")\n",
        "\n"
      ],
      "metadata": {
        "id": "-Y60-p9l11Ar"
      },
      "execution_count": null,
      "outputs": []
    },
    {
      "cell_type": "code",
      "source": [
        "#  Describe the different types of loops in Python and their use cases with examples.\n",
        "\n",
        "While loop- While loop is used to execute a block of statements repeatedly until a given condition is satisfied.\n",
        "When the condition becomes false, the line immediately after the loop in the program is executed.\n",
        "Example- count = 0\n",
        "         while count < 5:\n",
        "             print(count)\n",
        "            count += 1\n",
        "\n",
        "For loop- Used to iterate over items in a sequence (like lists, tuples, strings, or ranges).\n",
        "Example- for i in range(5):\n",
        "             print(i)\n",
        "\n"
      ],
      "metadata": {
        "colab": {
          "base_uri": "https://localhost:8080/",
          "height": 110
        },
        "id": "4EyE49zm11CP",
        "outputId": "2af5aec1-4d6d-499e-8b93-07ad6fd62643"
      },
      "execution_count": null,
      "outputs": [
        {
          "output_type": "error",
          "ename": "SyntaxError",
          "evalue": "invalid syntax (<ipython-input-2-c58c0eb2971d>, line 3)",
          "traceback": [
            "\u001b[0;36m  File \u001b[0;32m\"<ipython-input-2-c58c0eb2971d>\"\u001b[0;36m, line \u001b[0;32m3\u001b[0m\n\u001b[0;31m    While loop- While loop is used to execute a block of statements repeatedly until a given condition is satisfied.\u001b[0m\n\u001b[0m          ^\u001b[0m\n\u001b[0;31mSyntaxError\u001b[0m\u001b[0;31m:\u001b[0m invalid syntax\n"
          ]
        }
      ]
    }
  ]
}